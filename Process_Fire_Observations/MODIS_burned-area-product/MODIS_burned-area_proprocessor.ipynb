{
 "cells": [
  {
   "cell_type": "markdown",
   "metadata": {},
   "source": [
    "### MODIS_burned-area_proprocessor.ipynb"
   ]
  },
  {
   "cell_type": "markdown",
   "metadata": {},
   "source": [
    "!/usr/bin/env python\n",
    "\n",
    "    File name: MODIS_burned-area_proprocessor.ipynb\n",
    "    Author: Andreas Prein\n",
    "    E-mail: prein@ucar.edu\n",
    "    Date created: 05.04.2017\n",
    "    Date last modified: 05.04.2017\n",
    "\n",
    "    ##############################################################\n",
    "    Purpos:\n",
    "\n",
    "    Reads in hdf data that was downloaded from the following ftp server:\n",
    "    wget -m ftp://ba1.geog.umd.edu/Collection6/HDF/ --ftp-user=user --ftp-password=burnt\n",
    "    \n",
    "    More information about this dataset can be found here:\n",
    "    http://modis-fire.umd.edu/files/MODIS_C6_BA_User_Guide_1.2.pdf\n",
    "\n",
    "    Transforms the original data to daily NetCDFs and stores them."
   ]
  },
  {
   "cell_type": "code",
   "execution_count": 15,
   "metadata": {},
   "outputs": [],
   "source": [
    "from dateutil import rrule\n",
    "import datetime\n",
    "from datetime import timedelta\n",
    "import glob\n",
    "from netCDF4 import Dataset\n",
    "import netCDF4\n",
    "import sys, traceback\n",
    "import dateutil.parser as dparser\n",
    "import string\n",
    "from pdb import set_trace as stop\n",
    "import numpy as np\n",
    "import numpy.ma as ma\n",
    "import os\n",
    "from mpl_toolkits import basemap\n",
    "# import ESMF\n",
    "import pickle\n",
    "import subprocess\n",
    "import pandas as pd\n",
    "from scipy import stats\n",
    "import copy\n",
    "import matplotlib.pyplot as plt\n",
    "import matplotlib.colors as colors\n",
    "import matplotlib as mpl\n",
    "import pylab as plt\n",
    "import random\n",
    "import scipy.ndimage as ndimage\n",
    "import matplotlib.gridspec as gridspec\n",
    "from mpl_toolkits.basemap import Basemap, cm\n",
    "from matplotlib.colors import LinearSegmentedColormap\n",
    "import matplotlib.gridspec as gridspec\n",
    "from pylab import *\n",
    "import string\n",
    "from matplotlib.patches import Polygon\n",
    "from matplotlib.collections import PatchCollection\n",
    "import shapefile\n",
    "import shapely.geometry\n",
    "import shapefile\n",
    "import math\n",
    "from scipy.stats.kde import gaussian_kde\n",
    "from math import radians, cos, sin, asin, sqrt\n",
    "from shapely.geometry import Polygon, Point\n",
    "from scipy.interpolate import interp1d\n",
    "import csv\n",
    "import os.path\n",
    "import matplotlib.gridspec as gridspec\n",
    "import matplotlib.path as mplPath\n",
    "from scipy import stats\n",
    "from matplotlib.mlab import griddata\n",
    "from cartopy import config\n",
    "import cartopy.crs as ccrs\n",
    "import cartopy\n",
    "from cartopy.feature import NaturalEarthFeature\n",
    "import cartopy.io.shapereader as shpreader\n",
    "from shutil import copyfile\n",
    "from matplotlib import path\n",
    "from mpl_toolkits.basemap import Basemap; bm = Basemap()\n",
    "from scipy.interpolate import interp1d\n",
    "import scipy\n",
    "from mpl_toolkits.basemap import Basemap; bm = Basemap()\n",
    "from scipy import signal\n",
    "from random import randrange\n",
    "from numpy import linspace, meshgrid\n",
    "from matplotlib.mlab import griddata\n",
    "from pyhdf.SD import SD, SDC"
   ]
  },
  {
   "cell_type": "markdown",
   "metadata": {},
   "source": [
    "### Settings"
   ]
  },
  {
   "cell_type": "code",
   "execution_count": 3,
   "metadata": {},
   "outputs": [],
   "source": [
    "DataDir='/glade/campaign/mmm/c3we/prein/observations/Fire-observations/MODIS_burned-area-product/ba1.geog.umd.edu/Collection6/HDF/2001/001/MCD64A1.A2001001.h17v07.006.2017012053356.hdf'\n",
    "SaveDir='/glade/campaign/mmm/c3we/prein/observations/Fire-observations/MODIS_burned-area-product/data'\n",
    "\n",
    "dStartDay=datetime.datetime(2000, 1, 1,0)\n",
    "dStopDay=datetime.datetime(2017, 12, 31,0)\n",
    "rgdTimeDD = pd.date_range(dStartDay, end=dStopDay, freq='d')\n",
    "iYearsAll=np.unique(rgdTimeDD.year)"
   ]
  },
  {
   "cell_type": "markdown",
   "metadata": {},
   "source": [
    "### Load and process data"
   ]
  },
  {
   "cell_type": "code",
   "execution_count": 19,
   "metadata": {},
   "outputs": [
    {
     "name": "stdout",
     "output_type": "stream",
     "text": [
      "0 Burn Date\n",
      "1 Burn Date Uncertainty\n",
      "2 QA\n",
      "3 Last Day\n",
      "4 First Day\n"
     ]
    }
   ],
   "source": [
    "file = SD(DataDir, SDC.READ)\n",
    "datasets_dic = file.datasets()\n",
    "for idx,sds in enumerate(datasets_dic.keys()):\n",
    "    print idx,sds"
   ]
  },
  {
   "cell_type": "code",
   "execution_count": 31,
   "metadata": {},
   "outputs": [],
   "source": [
    "sds_obj = file.select('Burn Date') # select sds\n",
    "data = sds_obj.get() # get sds data"
   ]
  },
  {
   "cell_type": "code",
   "execution_count": 37,
   "metadata": {},
   "outputs": [
    {
     "data": {
      "text/plain": [
       "(2400, 2400)"
      ]
     },
     "execution_count": 37,
     "metadata": {},
     "output_type": "execute_result"
    }
   ],
   "source": [
    "data.shape"
   ]
  },
  {
   "cell_type": "code",
   "execution_count": 36,
   "metadata": {},
   "outputs": [
    {
     "data": {
      "image/png": "[encoded data removed]",
      "text/plain": [
       "<Figure size 432x288 with 1 Axes>"
      ]
     },
     "metadata": {},
     "output_type": "display_data"
    }
   ],
   "source": [
    "plt.contourf(data); plt.show()"
   ]
  },
  {
   "cell_type": "code",
   "execution_count": null,
   "metadata": {},
   "outputs": [],
   "source": []
  },
  {
   "cell_type": "code",
   "execution_count": null,
   "metadata": {},
   "outputs": [],
   "source": []
  }
 ],
 "metadata": {
  "kernelspec": {
   "display_name": "Python 2",
   "language": "python",
   "name": "python2"
  },
  "language_info": {
   "codemirror_mode": {
    "name": "ipython",
    "version": 2
   },
   "file_extension": ".py",
   "mimetype": "text/x-python",
   "name": "python",
   "nbconvert_exporter": "python",
   "pygments_lexer": "ipython2",
   "version": "2.7.14"
  }
 },
 "nbformat": 4,
 "nbformat_minor": 2
}
