{
 "cells": [
  {
   "cell_type": "code",
   "execution_count": 1,
   "metadata": {},
   "outputs": [],
   "source": [
    "#!/usr/bin/env python"
   ]
  },
  {
   "cell_type": "markdown",
   "metadata": {},
   "source": [
    "# Check_NetCDF_integrity.ipynb"
   ]
  },
  {
   "cell_type": "code",
   "execution_count": 5,
   "metadata": {},
   "outputs": [
    {
     "data": {
      "text/plain": [
       "'\\n    File name: Check_NetCDF_integrity.ipynb\\n    Author: Andreas Prein\\n    E-mail: prein@ucar.edu\\n    Date created: 23.07.2020\\n    Date last modified: 23.07.2020\\n\\n    ##############################################################\\n    Purpos:\\n\\n    1) loops over all NetCDFs in a dierctory and finds those that are not readable\\n\\n\\n'"
      ]
     },
     "execution_count": 5,
     "metadata": {},
     "output_type": "execute_result"
    }
   ],
   "source": [
    "'''\n",
    "    File name: Check_NetCDF_integrity.ipynb\n",
    "    Author: Andreas Prein\n",
    "    E-mail: prein@ucar.edu\n",
    "    Date created: 23.07.2020\n",
    "    Date last modified: 23.07.2020\n",
    "\n",
    "    ##############################################################\n",
    "    Purpos:\n",
    "\n",
    "    1) loops over all NetCDFs in a dierctory and finds those that are not readable\n",
    "\n",
    "\n",
    "'''"
   ]
  },
  {
   "cell_type": "code",
   "execution_count": 3,
   "metadata": {},
   "outputs": [],
   "source": [
    "from dateutil import rrule\n",
    "import datetime\n",
    "import glob\n",
    "from netCDF4 import Dataset\n",
    "import sys, traceback\n",
    "import dateutil.parser as dparser\n",
    "import string\n",
    "from pdb import set_trace as stop\n",
    "import numpy as np\n",
    "import numpy.ma as ma\n",
    "import os\n",
    "from mpl_toolkits import basemap\n",
    "import pickle\n",
    "import subprocess\n",
    "import pandas as pd\n",
    "from scipy import stats\n",
    "import copy\n",
    "import matplotlib.pyplot as plt\n",
    "import matplotlib.colors as colors\n",
    "import matplotlib as mpl\n",
    "import pylab as plt\n",
    "import random\n",
    "import scipy.ndimage as ndimage\n",
    "import matplotlib.gridspec as gridspec\n",
    "from mpl_toolkits.basemap import Basemap, cm\n",
    "from matplotlib.colors import LinearSegmentedColormap\n",
    "import matplotlib.gridspec as gridspec\n",
    "from pylab import *\n",
    "import string\n",
    "from matplotlib.patches import Polygon\n",
    "from matplotlib.collections import PatchCollection\n",
    "import shapefile\n",
    "import shapely.geometry\n",
    "# import descartes\n",
    "import shapefile\n",
    "import math\n",
    "from scipy.stats.kde import gaussian_kde\n",
    "from math import radians, cos, sin, asin, sqrt\n",
    "from scipy import spatial\n",
    "import scipy.ndimage\n",
    "import matplotlib.path as mplPath\n",
    "from scipy.interpolate import interp1d\n",
    "import time\n",
    "from math import atan2, degrees, pi\n",
    "import scipy\n",
    "import scipy.ndimage as ndimage\n",
    "import scipy.ndimage.filters as filters\n",
    "# import SkewT\n",
    "import csv\n",
    "import pygrib\n",
    "from scipy import interpolate\n",
    "import time"
   ]
  },
  {
   "cell_type": "code",
   "execution_count": 4,
   "metadata": {},
   "outputs": [],
   "source": [
    "# ________________________________________________________________________\n",
    "# ________________________________________________________________________\n",
    "#             USER INPUT SECTION\n",
    "\n",
    "DataDir='/glade/campaign/mmm/c3we/prein/NOAA-20C/daymean/'\n",
    "\n",
    "VARS=[['PRES','PRES','mean','surface pressure','hPa'],\n",
    "      ['PRMSL','PSL','mean','sea level pressure','hPa'],\n",
    "      ['PWAT','PW','mean','precipitable water','mm'],\n",
    "      ['SPFH2m','Q2','mean','2m specific humidity', 'g kg-1'],\n",
    "      ['SPFH500','Q500','mean','500 hPa specific humidity','g kg-1'],\n",
    "      ['TMP2m','T2','mean','2m mean air temperature', 'K'],\n",
    "      ['TMP2m','T2min','min','2m minimum air temperature', 'K'],\n",
    "      ['TMP2m','T2max','max','2m maximum air temperature', 'K'],\n",
    "      ['TMP500','T500','mean','500 hPa mean air temperature', 'K'],\n",
    "      ['UGRD10m','U10','mean','10m zonal wind speed', 'm s-1'],\n",
    "      ['UGRD200','U200','mean','200hPa zonal wind speed', 'm s-1'],\n",
    "      ['UGRD500','U500','mean','500hPa zonal wind speed', 'm s-1'],\n",
    "      ['VGRD10m','V10','mean','10m meridional wind speed', 'm s-1'],\n",
    "      ['VGRD200','V200','mean','200hPa meridional wind speed', 'm s-1'],\n",
    "      ['VGRD500','V500','mean','500hPa meridional wind speed', 'm s-1'],\n",
    "      ['VGRD850','V850','mean','850hPa meridional wind speed', 'm s-1']]\n",
    "\n",
    "var = str(sys.argv[1])\n",
    "SkipYear = str(sys.argv[2])"
   ]
  },
  {
   "cell_type": "code",
   "execution_count": null,
   "metadata": {},
   "outputs": [
    {
     "name": "stdout",
     "output_type": "stream",
     "text": [
      "    /glade/campaign/mmm/c3we/prein/NOAA-20C/daymean/U500/U500.1932_mem001.nc\n",
      "    /glade/campaign/mmm/c3we/prein/NOAA-20C/daymean/U500/U500.1932_mem002.nc\n",
      "    /glade/campaign/mmm/c3we/prein/NOAA-20C/daymean/U500/U500.1932_mem003.nc\n",
      "    /glade/campaign/mmm/c3we/prein/NOAA-20C/daymean/U500/U500.1932_mem004.nc\n",
      "    /glade/campaign/mmm/c3we/prein/NOAA-20C/daymean/U500/U500.1932_mem005.nc\n",
      "    /glade/campaign/mmm/c3we/prein/NOAA-20C/daymean/U500/U500.1932_mem006.nc\n",
      "    /glade/campaign/mmm/c3we/prein/NOAA-20C/daymean/U500/U500.1932_mem007.nc\n",
      "    /glade/campaign/mmm/c3we/prein/NOAA-20C/daymean/U500/U500.1932_mem008.nc\n",
      "    /glade/campaign/mmm/c3we/prein/NOAA-20C/daymean/U500/U500.1932_mem009.nc\n",
      "    /glade/campaign/mmm/c3we/prein/NOAA-20C/daymean/U500/U500.1932_mem010.nc\n",
      "    /glade/campaign/mmm/c3we/prein/NOAA-20C/daymean/U500/U500.1932_mem011.nc\n",
      "    /glade/campaign/mmm/c3we/prein/NOAA-20C/daymean/U500/U500.1932_mem012.nc\n",
      "    Delet corrupt file - /glade/campaign/mmm/c3we/prein/NOAA-20C/daymean/U500/U500.1932_mem012.nc\n",
      "    /glade/campaign/mmm/c3we/prein/NOAA-20C/daymean/U500/U500.1932_mem013.nc\n",
      "    /glade/campaign/mmm/c3we/prein/NOAA-20C/daymean/U500/U500.1932_mem014.nc\n",
      "    /glade/campaign/mmm/c3we/prein/NOAA-20C/daymean/U500/U500.1932_mem015.nc\n",
      "    /glade/campaign/mmm/c3we/prein/NOAA-20C/daymean/U500/U500.1932_mem016.nc\n",
      "    /glade/campaign/mmm/c3we/prein/NOAA-20C/daymean/U500/U500.1932_mem017.nc\n",
      "    /glade/campaign/mmm/c3we/prein/NOAA-20C/daymean/U500/U500.1932_mem018.nc\n",
      "    /glade/campaign/mmm/c3we/prein/NOAA-20C/daymean/U500/U500.1932_mem019.nc\n",
      "    /glade/campaign/mmm/c3we/prein/NOAA-20C/daymean/U500/U500.1932_mem020.nc\n",
      "    /glade/campaign/mmm/c3we/prein/NOAA-20C/daymean/U500/U500.1932_mem021.nc\n",
      "    /glade/campaign/mmm/c3we/prein/NOAA-20C/daymean/U500/U500.1932_mem022.nc\n",
      "    /glade/campaign/mmm/c3we/prein/NOAA-20C/daymean/U500/U500.1932_mem023.nc\n",
      "    /glade/campaign/mmm/c3we/prein/NOAA-20C/daymean/U500/U500.1932_mem024.nc\n",
      "    /glade/campaign/mmm/c3we/prein/NOAA-20C/daymean/U500/U500.1932_mem025.nc\n",
      "    /glade/campaign/mmm/c3we/prein/NOAA-20C/daymean/U500/U500.1932_mem026.nc\n",
      "    /glade/campaign/mmm/c3we/prein/NOAA-20C/daymean/U500/U500.1932_mem027.nc\n",
      "    /glade/campaign/mmm/c3we/prein/NOAA-20C/daymean/U500/U500.1932_mem028.nc\n",
      "    /glade/campaign/mmm/c3we/prein/NOAA-20C/daymean/U500/U500.1932_mem029.nc\n",
      "    /glade/campaign/mmm/c3we/prein/NOAA-20C/daymean/U500/U500.1932_mem030.nc\n",
      "    /glade/campaign/mmm/c3we/prein/NOAA-20C/daymean/U500/U500.1932_mem031.nc\n",
      "    /glade/campaign/mmm/c3we/prein/NOAA-20C/daymean/U500/U500.1932_mem032.nc\n",
      "    /glade/campaign/mmm/c3we/prein/NOAA-20C/daymean/U500/U500.1932_mem033.nc\n",
      "    /glade/campaign/mmm/c3we/prein/NOAA-20C/daymean/U500/U500.1932_mem034.nc\n",
      "    /glade/campaign/mmm/c3we/prein/NOAA-20C/daymean/U500/U500.1932_mem035.nc\n",
      "    /glade/campaign/mmm/c3we/prein/NOAA-20C/daymean/U500/U500.1932_mem036.nc\n",
      "    Delet corrupt file - /glade/campaign/mmm/c3we/prein/NOAA-20C/daymean/U500/U500.1932_mem036.nc\n",
      "    /glade/campaign/mmm/c3we/prein/NOAA-20C/daymean/U500/U500.1932_mem037.nc\n",
      "    /glade/campaign/mmm/c3we/prein/NOAA-20C/daymean/U500/U500.1932_mem038.nc\n",
      "    /glade/campaign/mmm/c3we/prein/NOAA-20C/daymean/U500/U500.1932_mem039.nc\n",
      "    /glade/campaign/mmm/c3we/prein/NOAA-20C/daymean/U500/U500.1932_mem040.nc\n",
      "    /glade/campaign/mmm/c3we/prein/NOAA-20C/daymean/U500/U500.1932_mem041.nc\n",
      "    /glade/campaign/mmm/c3we/prein/NOAA-20C/daymean/U500/U500.1932_mem042.nc\n"
     ]
    }
   ],
   "source": [
    "# Loop over netcdf files in directory and check if we can read on colum of data\n",
    "NCfiles = np.sort(glob.glob(DataDir+var+'/'+\"*.nc\"))\n",
    "iStart = int(SkipYear*80)\n",
    "for fi in range(len(NCfiles))[iStart:]:\n",
    "    try:\n",
    "        print('    '+NCfiles[fi])\n",
    "        ncid=Dataset(NCfiles[fi], mode='r')\n",
    "        TEST=np.squeeze(ncid.variables[var][:,100,200])\n",
    "        ncid.close()\n",
    "    except:\n",
    "        print('    Delet corrupt file - '+NCfiles[fi])\n",
    "        pp = subprocess.Popen(\"rm \"+NCfiles[fi], shell=True); pp.wait()\n",
    "    time.sleep(.3)"
   ]
  },
  {
   "cell_type": "code",
   "execution_count": null,
   "metadata": {},
   "outputs": [],
   "source": []
  },
  {
   "cell_type": "code",
   "execution_count": null,
   "metadata": {},
   "outputs": [],
   "source": []
  }
 ],
 "metadata": {
  "kernelspec": {
   "display_name": "Python 3",
   "language": "python",
   "name": "python3"
  },
  "language_info": {
   "codemirror_mode": {
    "name": "ipython",
    "version": 3
   },
   "file_extension": ".py",
   "mimetype": "text/x-python",
   "name": "python",
   "nbconvert_exporter": "python",
   "pygments_lexer": "ipython3",
   "version": "3.7.5"
  }
 },
 "nbformat": 4,
 "nbformat_minor": 4
}
