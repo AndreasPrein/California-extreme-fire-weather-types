{
 "cells": [
  {
   "cell_type": "code",
   "execution_count": 1,
   "metadata": {},
   "outputs": [],
   "source": [
    "#!/usr/bin/env python"
   ]
  },
  {
   "cell_type": "markdown",
   "metadata": {},
   "source": [
    "# 3-hourly_to_daily_files"
   ]
  },
  {
   "cell_type": "code",
   "execution_count": 3,
   "metadata": {},
   "outputs": [
    {
     "data": {
      "text/plain": [
       "'\\n    File name: 3-hourly_to_daily_files\\n    Author: Andreas Prein\\n    E-mail: prein@ucar.edu\\n    Date created: 23.07.2020\\n    Date last modified: 23.07.2020\\n\\n    ##############################################################\\n    Purpos:\\n\\n    1) Reads in 3-hourly original data from the NOAA-CIRES-DOE 20CRv3\\n       The original data is here - https://portal.nersc.gov/archive/home/projects/incite11/www/20C_Reanalysis_version_3/everymember_anal_netcdf/subdaily\\n       Chi-Fan Shih <chifan@ucar.edu> helped transfering the data via Globus\\n\\n    2) untarr the data and calculate daily average NetCDF files for each of the 80 members in annual files\\n\\n\\n'"
      ]
     },
     "execution_count": 3,
     "metadata": {},
     "output_type": "execute_result"
    }
   ],
   "source": [
    "'''\n",
    "    File name: 3-hourly_to_daily_files\n",
    "    Author: Andreas Prein\n",
    "    E-mail: prein@ucar.edu\n",
    "    Date created: 23.07.2020\n",
    "    Date last modified: 23.07.2020\n",
    "\n",
    "    ##############################################################\n",
    "    Purpos:\n",
    "\n",
    "    1) Reads in 3-hourly original data from the NOAA-CIRES-DOE 20CRv3\n",
    "       The original data is here - https://portal.nersc.gov/archive/home/projects/incite11/www/20C_Reanalysis_version_3/everymember_anal_netcdf/subdaily\n",
    "       Chi-Fan Shih <chifan@ucar.edu> helped transfering the data via Globus\n",
    "\n",
    "    2) untarr the data and calculate daily average NetCDF files for each of the 80 members in annual files\n",
    "\n",
    "\n",
    "'''"
   ]
  },
  {
   "cell_type": "code",
   "execution_count": 4,
   "metadata": {},
   "outputs": [],
   "source": [
    "from dateutil import rrule\n",
    "import datetime\n",
    "import glob\n",
    "from netCDF4 import Dataset\n",
    "import sys, traceback\n",
    "import dateutil.parser as dparser\n",
    "import string\n",
    "from pdb import set_trace as stop\n",
    "import numpy as np\n",
    "import numpy.ma as ma\n",
    "import os\n",
    "from mpl_toolkits import basemap\n",
    "import pickle\n",
    "import subprocess\n",
    "import pandas as pd\n",
    "from scipy import stats\n",
    "import copy\n",
    "import matplotlib.pyplot as plt\n",
    "import matplotlib.colors as colors\n",
    "import matplotlib as mpl\n",
    "import pylab as plt\n",
    "import random\n",
    "import scipy.ndimage as ndimage\n",
    "import matplotlib.gridspec as gridspec\n",
    "from mpl_toolkits.basemap import Basemap, cm\n",
    "from matplotlib.colors import LinearSegmentedColormap\n",
    "import matplotlib.gridspec as gridspec\n",
    "from pylab import *\n",
    "import string\n",
    "from matplotlib.patches import Polygon\n",
    "from matplotlib.collections import PatchCollection\n",
    "import shapefile\n",
    "import shapely.geometry\n",
    "# import descartes\n",
    "import shapefile\n",
    "import math\n",
    "from scipy.stats.kde import gaussian_kde\n",
    "from math import radians, cos, sin, asin, sqrt\n",
    "from scipy import spatial\n",
    "import scipy.ndimage\n",
    "import matplotlib.path as mplPath\n",
    "from scipy.interpolate import interp1d\n",
    "import time\n",
    "from math import atan2, degrees, pi\n",
    "import scipy\n",
    "import scipy.ndimage as ndimage\n",
    "import scipy.ndimage.filters as filters\n",
    "# import SkewT\n",
    "import csv\n",
    "import pygrib\n",
    "from scipy import interpolate"
   ]
  },
  {
   "cell_type": "code",
   "execution_count": 21,
   "metadata": {},
   "outputs": [],
   "source": [
    "# ________________________________________________________________________\n",
    "# ________________________________________________________________________\n",
    "#             USER INPUT SECTION\n",
    "\n",
    "DataDir='/glade/campaign/mmm/c3we/prein/NCEP-20C/original_data/'\n",
    "SaveDir='/glade/campaign/mmm/c3we/prein/NCEP-20C/daymean/'\n",
    "\n",
    "ConstantVars='/gpfs/fs1/collections/rda/data/ds131.3/anl/anl_mean_2015_VGRD_pres.nc'\n",
    "Labels = ['OrigVar','TarVar','daystat','longname','unit']\n",
    "VARS=[['PRES','PRES','mean','surface pressure','hPa'],\n",
    "      ['PRMSL','PSL','mean','sea level pressure','hPa'],\n",
    "      ['PWAT','PW','mean','precipitable water','mm'],\n",
    "      ['SPFH2m','Q2','mean','2m specific humidity', 'g kg-1'],\n",
    "      ['SPFH500','Q500','mean','500 hPa specific humidity','g kg-1'],\n",
    "      ['TMP2m','T2','mean','2m mean air temperature', 'K'],\n",
    "      ['TMP2m','T2min','min','2m minimum air temperature', 'K'],\n",
    "      ['TMP2m','T2max','max','2m maximum air temperature', 'K'],\n",
    "      ['TMP500','T500','mean','500 hPa mean air temperature', 'K'],\n",
    "      ['UGRD10m','U10','mean','10m zonal wind speed', 'm s-1'],\n",
    "      ['UGRD200','U200','mean','200hPa zonal wind speed', 'm s-1'],\n",
    "      ['UGRD500','U500','mean','500hPa zonal wind speed', 'm s-1'],\n",
    "      ['VGRD10m','V10','mean','10m meridional wind speed', 'm s-1'],\n",
    "      ['VGRD200','V200','mean','200hPa meridional wind speed', 'm s-1'],\n",
    "      ['VGRD500','V500','mean','500hPa meridional wind speed', 'm s-1'],\n",
    "      ['VGRD850','V850','mean','850hPa meridional wind speed', 'm s-1']]\n",
    "\n",
    "rgdTime = pd.date_range(datetime.datetime(1900, 1, 1,0), end=datetime.datetime(2015, 12, 31,23), freq='d')\n",
    "YYYYall = np.unique(rgdTime.year)"
   ]
  },
  {
   "cell_type": "code",
   "execution_count": 10,
   "metadata": {},
   "outputs": [],
   "source": [
    "# ________________________________________________________________________\n",
    "# ________________________________________________________________________\n",
    "#              READ IN THE COORDINATES\n",
    "ncid=Dataset(ConstantVars, mode='r')\n",
    "rgrLat=np.squeeze(ncid.variables['latitude'][:])\n",
    "rgrLon=np.squeeze(ncid.variables['longitude'][:])\n",
    "ncid.close()"
   ]
  },
  {
   "cell_type": "code",
   "execution_count": 37,
   "metadata": {},
   "outputs": [
    {
     "name": "stdout",
     "output_type": "stream",
     "text": [
      "    processing PRES\n",
      "        1900\n",
      "        1901\n",
      "        1902\n",
      "        1903\n",
      "        1904\n",
      "        1905\n",
      "        1906\n",
      "        1907\n",
      "        1908\n",
      "        1909\n",
      "        1910\n",
      "        1911\n",
      "        1912\n",
      "        1913\n"
     ]
    },
    {
     "ename": "KeyboardInterrupt",
     "evalue": "",
     "output_type": "error",
     "traceback": [
      "\u001b[0;31m---------------------------------------------------------------------------\u001b[0m",
      "\u001b[0;31mKeyboardInterrupt\u001b[0m                         Traceback (most recent call last)",
      "\u001b[0;32m<ipython-input-37-051281b9cc48>\u001b[0m in \u001b[0;36m<module>\u001b[0;34m\u001b[0m\n\u001b[1;32m     78\u001b[0m                     \u001b[0;31m# compress the netcdf file\u001b[0m\u001b[0;34m\u001b[0m\u001b[0;34m\u001b[0m\u001b[0;34m\u001b[0m\u001b[0m\n\u001b[1;32m     79\u001b[0m                     \u001b[0mpp\u001b[0m \u001b[0;34m=\u001b[0m \u001b[0msubprocess\u001b[0m\u001b[0;34m.\u001b[0m\u001b[0mPopen\u001b[0m\u001b[0;34m(\u001b[0m\u001b[0;34m\"nccopy -k 4 -d 1 -s \"\u001b[0m\u001b[0;34m+\u001b[0m\u001b[0mFile\u001b[0m\u001b[0;34m+\u001b[0m\u001b[0;34m' '\u001b[0m\u001b[0;34m+\u001b[0m\u001b[0mFile_fin\u001b[0m\u001b[0;34m,\u001b[0m \u001b[0mshell\u001b[0m\u001b[0;34m=\u001b[0m\u001b[0;32mTrue\u001b[0m\u001b[0;34m)\u001b[0m\u001b[0;34m\u001b[0m\u001b[0;34m\u001b[0m\u001b[0m\n\u001b[0;32m---> 80\u001b[0;31m                     \u001b[0mpp\u001b[0m\u001b[0;34m.\u001b[0m\u001b[0mwait\u001b[0m\u001b[0;34m(\u001b[0m\u001b[0;34m)\u001b[0m\u001b[0;34m\u001b[0m\u001b[0;34m\u001b[0m\u001b[0m\n\u001b[0m\u001b[1;32m     81\u001b[0m                     \u001b[0msubprocess\u001b[0m\u001b[0;34m.\u001b[0m\u001b[0mPopen\u001b[0m\u001b[0;34m(\u001b[0m\u001b[0;34m\"rm  \"\u001b[0m\u001b[0;34m+\u001b[0m\u001b[0mFile\u001b[0m\u001b[0;34m,\u001b[0m \u001b[0mshell\u001b[0m\u001b[0;34m=\u001b[0m\u001b[0;32mTrue\u001b[0m\u001b[0;34m)\u001b[0m\u001b[0;34m\u001b[0m\u001b[0;34m\u001b[0m\u001b[0m\n\u001b[1;32m     82\u001b[0m             \u001b[0mpp\u001b[0m \u001b[0;34m=\u001b[0m \u001b[0msubprocess\u001b[0m\u001b[0;34m.\u001b[0m\u001b[0mPopen\u001b[0m\u001b[0;34m(\u001b[0m\u001b[0;34m'rm -r '\u001b[0m\u001b[0;34m+\u001b[0m\u001b[0mOutDir\u001b[0m\u001b[0;34m+\u001b[0m\u001b[0mstr\u001b[0m\u001b[0;34m(\u001b[0m\u001b[0mYYYYall\u001b[0m\u001b[0;34m[\u001b[0m\u001b[0myy\u001b[0m\u001b[0;34m]\u001b[0m\u001b[0;34m)\u001b[0m\u001b[0;34m,\u001b[0m \u001b[0mshell\u001b[0m\u001b[0;34m=\u001b[0m\u001b[0;32mTrue\u001b[0m\u001b[0;34m)\u001b[0m\u001b[0;34m\u001b[0m\u001b[0;34m\u001b[0m\u001b[0m\n",
      "\u001b[0;32m/glade/u/apps/dav/opt/python/3.7.5/gnu/8.3.0/lib/python3.7/subprocess.py\u001b[0m in \u001b[0;36mwait\u001b[0;34m(self, timeout)\u001b[0m\n\u001b[1;32m   1017\u001b[0m             \u001b[0mendtime\u001b[0m \u001b[0;34m=\u001b[0m \u001b[0m_time\u001b[0m\u001b[0;34m(\u001b[0m\u001b[0;34m)\u001b[0m \u001b[0;34m+\u001b[0m \u001b[0mtimeout\u001b[0m\u001b[0;34m\u001b[0m\u001b[0;34m\u001b[0m\u001b[0m\n\u001b[1;32m   1018\u001b[0m         \u001b[0;32mtry\u001b[0m\u001b[0;34m:\u001b[0m\u001b[0;34m\u001b[0m\u001b[0;34m\u001b[0m\u001b[0m\n\u001b[0;32m-> 1019\u001b[0;31m             \u001b[0;32mreturn\u001b[0m \u001b[0mself\u001b[0m\u001b[0;34m.\u001b[0m\u001b[0m_wait\u001b[0m\u001b[0;34m(\u001b[0m\u001b[0mtimeout\u001b[0m\u001b[0;34m=\u001b[0m\u001b[0mtimeout\u001b[0m\u001b[0;34m)\u001b[0m\u001b[0;34m\u001b[0m\u001b[0;34m\u001b[0m\u001b[0m\n\u001b[0m\u001b[1;32m   1020\u001b[0m         \u001b[0;32mexcept\u001b[0m \u001b[0mKeyboardInterrupt\u001b[0m\u001b[0;34m:\u001b[0m\u001b[0;34m\u001b[0m\u001b[0;34m\u001b[0m\u001b[0m\n\u001b[1;32m   1021\u001b[0m             \u001b[0;31m# https://bugs.python.org/issue25942\u001b[0m\u001b[0;34m\u001b[0m\u001b[0;34m\u001b[0m\u001b[0;34m\u001b[0m\u001b[0m\n",
      "\u001b[0;32m/glade/u/apps/dav/opt/python/3.7.5/gnu/8.3.0/lib/python3.7/subprocess.py\u001b[0m in \u001b[0;36m_wait\u001b[0;34m(self, timeout)\u001b[0m\n\u001b[1;32m   1651\u001b[0m                         \u001b[0;32mif\u001b[0m \u001b[0mself\u001b[0m\u001b[0;34m.\u001b[0m\u001b[0mreturncode\u001b[0m \u001b[0;32mis\u001b[0m \u001b[0;32mnot\u001b[0m \u001b[0;32mNone\u001b[0m\u001b[0;34m:\u001b[0m\u001b[0;34m\u001b[0m\u001b[0;34m\u001b[0m\u001b[0m\n\u001b[1;32m   1652\u001b[0m                             \u001b[0;32mbreak\u001b[0m  \u001b[0;31m# Another thread waited.\u001b[0m\u001b[0;34m\u001b[0m\u001b[0;34m\u001b[0m\u001b[0m\n\u001b[0;32m-> 1653\u001b[0;31m                         \u001b[0;34m(\u001b[0m\u001b[0mpid\u001b[0m\u001b[0;34m,\u001b[0m \u001b[0msts\u001b[0m\u001b[0;34m)\u001b[0m \u001b[0;34m=\u001b[0m \u001b[0mself\u001b[0m\u001b[0;34m.\u001b[0m\u001b[0m_try_wait\u001b[0m\u001b[0;34m(\u001b[0m\u001b[0;36m0\u001b[0m\u001b[0;34m)\u001b[0m\u001b[0;34m\u001b[0m\u001b[0;34m\u001b[0m\u001b[0m\n\u001b[0m\u001b[1;32m   1654\u001b[0m                         \u001b[0;31m# Check the pid and loop as waitpid has been known to\u001b[0m\u001b[0;34m\u001b[0m\u001b[0;34m\u001b[0m\u001b[0;34m\u001b[0m\u001b[0m\n\u001b[1;32m   1655\u001b[0m                         \u001b[0;31m# return 0 even without WNOHANG in odd situations.\u001b[0m\u001b[0;34m\u001b[0m\u001b[0;34m\u001b[0m\u001b[0;34m\u001b[0m\u001b[0m\n",
      "\u001b[0;32m/glade/u/apps/dav/opt/python/3.7.5/gnu/8.3.0/lib/python3.7/subprocess.py\u001b[0m in \u001b[0;36m_try_wait\u001b[0;34m(self, wait_flags)\u001b[0m\n\u001b[1;32m   1609\u001b[0m             \u001b[0;34m\"\"\"All callers to this function MUST hold self._waitpid_lock.\"\"\"\u001b[0m\u001b[0;34m\u001b[0m\u001b[0;34m\u001b[0m\u001b[0m\n\u001b[1;32m   1610\u001b[0m             \u001b[0;32mtry\u001b[0m\u001b[0;34m:\u001b[0m\u001b[0;34m\u001b[0m\u001b[0;34m\u001b[0m\u001b[0m\n\u001b[0;32m-> 1611\u001b[0;31m                 \u001b[0;34m(\u001b[0m\u001b[0mpid\u001b[0m\u001b[0;34m,\u001b[0m \u001b[0msts\u001b[0m\u001b[0;34m)\u001b[0m \u001b[0;34m=\u001b[0m \u001b[0mos\u001b[0m\u001b[0;34m.\u001b[0m\u001b[0mwaitpid\u001b[0m\u001b[0;34m(\u001b[0m\u001b[0mself\u001b[0m\u001b[0;34m.\u001b[0m\u001b[0mpid\u001b[0m\u001b[0;34m,\u001b[0m \u001b[0mwait_flags\u001b[0m\u001b[0;34m)\u001b[0m\u001b[0;34m\u001b[0m\u001b[0;34m\u001b[0m\u001b[0m\n\u001b[0m\u001b[1;32m   1612\u001b[0m             \u001b[0;32mexcept\u001b[0m \u001b[0mChildProcessError\u001b[0m\u001b[0;34m:\u001b[0m\u001b[0;34m\u001b[0m\u001b[0;34m\u001b[0m\u001b[0m\n\u001b[1;32m   1613\u001b[0m                 \u001b[0;31m# This happens if SIGCLD is set to be ignored or waiting\u001b[0m\u001b[0;34m\u001b[0m\u001b[0;34m\u001b[0m\u001b[0;34m\u001b[0m\u001b[0m\n",
      "\u001b[0;31mKeyboardInterrupt\u001b[0m: "
     ]
    }
   ],
   "source": [
    "for va in range(len(VARS)):\n",
    "    print('    processing '+VARS[va][0])\n",
    "    OutDir = SaveDir+VARS[va][1]+'/'\n",
    "    if not os.path.exists(OutDir):\n",
    "        os.makedirs(OutDir)\n",
    "    \n",
    "    for yy in range(len(YYYYall)):\n",
    "        print('        '+str(YYYYall[yy]))\n",
    "        # unpack the data\n",
    "        FILES = glob.glob(OutDir+VARS[va][1]+'.'+str(YYYYall[yy])+\"*.nc\")\n",
    "        if len(FILES) < 80:\n",
    "            pp = subprocess.Popen(\"tar -xf \"+DataDir+VARS[va][0]+'_'+str(YYYYall[yy])+'.tar -C '+OutDir, shell=True)\n",
    "            pp.wait()\n",
    "            OutDirEns = OutDir+str(YYYYall[yy])\n",
    "            for em in range(80):\n",
    "                FileACT = OutDirEns+'/'+VARS[va][0]+'.'+str(YYYYall[yy])+'_mem'+str(em+1).zfill(3)+'.nc'\n",
    "                File_fin = OutDir+VARS[va][1]+'.'+str(YYYYall[yy])+'_mem'+str(em+1).zfill(3)+'.nc'\n",
    "                File=File_fin+'_copy'\n",
    "                if os.path.exists(File_fin) == 0:\n",
    "                    try:\n",
    "                        ncid=Dataset(FileACT, mode='r')\n",
    "                        rgrDATA=np.squeeze(ncid.variables[VARS[va][0]][:])\n",
    "                        time_act=np.squeeze(ncid.variables['time'][:])[4::8]\n",
    "                        ncid.close()\n",
    "                    except:\n",
    "                        ncid=Dataset(OutDirEns+'/'+VARS[va][0]+'.'+str(YYYYall[yy])+'_mem'+str(em).zfill(3)+'.nc', mode='r')\n",
    "                        rgrDATA=np.squeeze(ncid.variables[VARS[va][0]][:])\n",
    "                        time_act=np.squeeze(ncid.variables['time'][:])[4::8]\n",
    "                        ncid.close()\n",
    "                    \n",
    "\n",
    "                    if VARS[va][2] == 'mean':\n",
    "                        rgrDATA = np.mean(np.reshape(rgrDATA, (int(rgrDATA.shape[0]/8),8,rgrDATA.shape[1],rgrDATA.shape[2])), axis=1)\n",
    "                    elif VARS[va][2] == 'min':\n",
    "                        rgrDATA = np.min(np.reshape(rgrDATA, (int(rgrDATA.shape[0]/8),8,rgrDATA.shape[1],rgrDATA.shape[2])), axis=1)\n",
    "                    elif VARS[va][2] == 'max':\n",
    "                        rgrDATA = np.max(np.reshape(rgrDATA, (int(rgrDATA.shape[0]/8),8,rgrDATA.shape[1],rgrDATA.shape[2])), axis=1)\n",
    "    #                 except:\n",
    "    #                     rgrDATA = rgrDATA[-int(rgrDATA.shape[0]/8)*8:,:]\n",
    "    #                     rgrDATA = np.mean(np.reshape(rgrDATA, (int(rgrDATA.shape[0]/8),8,rgrDATA.shape[1],rgrDATA.shape[2])), axis=1)\n",
    "\n",
    "                    # ________________________________________________________________________\n",
    "                    # write the netcdf\n",
    "#                     print( '        ----------------------')\n",
    "#                     print( '        Save data to '+File_fin)\n",
    "                    root_grp = Dataset(File, 'w', format='NETCDF4')\n",
    "                    # dimensions\n",
    "                    root_grp.createDimension('time', None)\n",
    "                    root_grp.createDimension('rlon', rgrLon.shape[0])\n",
    "                    root_grp.createDimension('rlat', rgrLat.shape[0])\n",
    "                    # variables\n",
    "                    lat = root_grp.createVariable('lat', 'f4', ('rlat',))\n",
    "                    lon = root_grp.createVariable('lon', 'f4', ('rlon',))\n",
    "                    time = root_grp.createVariable('time', 'f8', ('time',))\n",
    "                    UV = root_grp.createVariable(VARS[va][1], 'f4', ('time','rlat','rlon',),fill_value=-99999)\n",
    "\n",
    "                    time.calendar = \"proleptic_gregorian\"\n",
    "                    time.units = \"hours since 1800-01-01 00:00:00.0\"\n",
    "                    time.standard_name = \"time\"\n",
    "                    time.long_name = \"time\"\n",
    "\n",
    "                    lon.standard_name = \"longitude\"\n",
    "                    lon.long_name = \"longitude\"\n",
    "                    lon.units = \"degrees_east\"\n",
    "\n",
    "                    lat.standard_name = \"latitude\"\n",
    "                    lat.long_name = \"latitude\"\n",
    "                    lat.units = \"degrees_north\"\n",
    "\n",
    "                    UV.standard_name = VARS[va][3]\n",
    "                    UV.long_name = VARS[va][3]\n",
    "                    UV.units = VARS[va][4]\n",
    "                    UV.timedaystat = VARS[va][2]\n",
    "\n",
    "                    # write data to netcdf\n",
    "                    lat[:]=rgrLat\n",
    "                    lon[:]=rgrLon\n",
    "                    UV[:]=rgrDATA\n",
    "                    time[:]=time_act\n",
    "                    root_grp.close()\n",
    "\n",
    "                    # compress the netcdf file\n",
    "                    pp = subprocess.Popen(\"nccopy -k 4 -d 1 -s \"+File+' '+File_fin, shell=True)\n",
    "                    pp.wait()\n",
    "                    subprocess.Popen(\"rm  \"+File, shell=True)\n",
    "            pp = subprocess.Popen('rm -r '+OutDir+str(YYYYall[yy]), shell=True)\n",
    "            pp.wait()"
   ]
  },
  {
   "cell_type": "code",
   "execution_count": 35,
   "metadata": {},
   "outputs": [
    {
     "data": {
      "text/plain": [
       "'/glade/campaign/mmm/c3we/prein/NCEP-20C/daymean/PRES/1912/PRES.1912_mem040.nc'"
      ]
     },
     "execution_count": 35,
     "metadata": {},
     "output_type": "execute_result"
    }
   ],
   "source": [
    "FileACT"
   ]
  },
  {
   "cell_type": "code",
   "execution_count": null,
   "metadata": {},
   "outputs": [],
   "source": []
  }
 ],
 "metadata": {
  "kernelspec": {
   "display_name": "Python 3",
   "language": "python",
   "name": "python3"
  },
  "language_info": {
   "codemirror_mode": {
    "name": "ipython",
    "version": 3
   },
   "file_extension": ".py",
   "mimetype": "text/x-python",
   "name": "python",
   "nbconvert_exporter": "python",
   "pygments_lexer": "ipython3",
   "version": "3.7.5"
  }
 },
 "nbformat": 4,
 "nbformat_minor": 4
}
